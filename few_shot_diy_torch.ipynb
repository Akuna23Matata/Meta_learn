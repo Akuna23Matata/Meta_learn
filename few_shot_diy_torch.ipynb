{
  "nbformat": 4,
  "nbformat_minor": 0,
  "metadata": {
    "colab": {
      "provenance": []
    },
    "kernelspec": {
      "name": "python3",
      "display_name": "Python 3"
    },
    "language_info": {
      "name": "python"
    },
    "accelerator": "GPU",
    "gpuClass": "standard"
  },
  "cells": [
    {
      "cell_type": "code",
      "source": [
        "from google.colab import drive\n",
        "drive.mount('/content/drive')\n",
        "!tar -xzf ./drive/MyDrive/ece_ml/miniImagenet.tgz -C ./"
      ],
      "metadata": {
        "colab": {
          "base_uri": "https://localhost:8080/"
        },
        "id": "-K0MWYsjIjx9",
        "outputId": "7022e902-a4a4-4e68-fdb4-80680a1d812e"
      },
      "execution_count": null,
      "outputs": [
        {
          "output_type": "stream",
          "name": "stdout",
          "text": [
            "Mounted at /content/drive\n"
          ]
        }
      ]
    },
    {
      "cell_type": "code",
      "source": [
        "import torchvision\n",
        "\n",
        "dataset = torchvision.datasets.Omniglot(\n",
        "    root=\"./data\", download=True, transform=torchvision.transforms.ToTensor()\n",
        ")\n",
        "\n",
        "image, label = dataset[0]\n",
        "print(type(image))  # torch.Tensor\n",
        "print(type(label))  # int"
      ],
      "metadata": {
        "colab": {
          "base_uri": "https://localhost:8080/"
        },
        "id": "BrIFKo3p1qCm",
        "outputId": "04189939-35e7-48b4-c41c-afaa5c2042c0"
      },
      "execution_count": null,
      "outputs": [
        {
          "output_type": "stream",
          "name": "stdout",
          "text": [
            "Downloading https://raw.githubusercontent.com/brendenlake/omniglot/master/python/images_background.zip to ./data/omniglot-py/images_background.zip\n"
          ]
        },
        {
          "output_type": "stream",
          "name": "stderr",
          "text": [
            "100%|██████████| 9464212/9464212 [00:00<00:00, 66165150.84it/s]\n"
          ]
        },
        {
          "output_type": "stream",
          "name": "stdout",
          "text": [
            "Extracting ./data/omniglot-py/images_background.zip to ./data/omniglot-py\n",
            "<class 'torch.Tensor'>\n",
            "<class 'int'>\n"
          ]
        }
      ]
    },
    {
      "cell_type": "code",
      "source": [
        "!rm -rf ./train"
      ],
      "metadata": {
        "id": "b3RrpL1d29Er"
      },
      "execution_count": null,
      "outputs": []
    },
    {
      "cell_type": "code",
      "source": [
        "cifar_train = torchvision.datasets.CIFAR10(root='./cifar10', download=True, train=True, transform=torchvision.transforms.ToTensor())\n",
        "cifar_test = torchvision.datasets.CIFAR10(root='./cifar10', download=True, train=False, transform=torchvision.transforms.ToTensor())"
      ],
      "metadata": {
        "colab": {
          "base_uri": "https://localhost:8080/"
        },
        "id": "QNEZlyzv94KP",
        "outputId": "585dcb88-834c-4684-f90a-d798af674952"
      },
      "execution_count": null,
      "outputs": [
        {
          "output_type": "stream",
          "name": "stdout",
          "text": [
            "Downloading https://www.cs.toronto.edu/~kriz/cifar-10-python.tar.gz to ./cifar10/cifar-10-python.tar.gz\n"
          ]
        },
        {
          "output_type": "stream",
          "name": "stderr",
          "text": [
            "100%|██████████| 170498071/170498071 [00:02<00:00, 62874865.78it/s]\n"
          ]
        },
        {
          "output_type": "stream",
          "name": "stdout",
          "text": [
            "Extracting ./cifar10/cifar-10-python.tar.gz to ./cifar10\n",
            "Files already downloaded and verified\n"
          ]
        }
      ]
    },
    {
      "cell_type": "code",
      "source": [
        "mergeDataSet = torch.utils.data.ConcatDataset([cifar_train, cifar_test])\n",
        "newTrainSet , newTestSet, newValSet = torch.utils.data.random_split(mergeDataSet, [0.4, 0.4, 0.2], generator=torch.Generator().manual_seed(423))"
      ],
      "metadata": {
        "id": "2USQDyPhN3m0"
      },
      "execution_count": null,
      "outputs": []
    },
    {
      "cell_type": "code",
      "source": [
        "print(getSize(newTrainSet))\n",
        "print(getSize(newTestSet))\n",
        "print(getSize(newValSet))\n",
        "# for i, l in mnist_testset:\n",
        "#   print(l)\n",
        "# for i in newTrainSet:\n",
        "#   print(i[0].shape)"
      ],
      "metadata": {
        "colab": {
          "base_uri": "https://localhost:8080/"
        },
        "id": "twwfFG8i3Nlq",
        "outputId": "40846c15-bde3-404b-fbe7-f1855b4b2b86"
      },
      "execution_count": null,
      "outputs": [
        {
          "output_type": "stream",
          "name": "stdout",
          "text": [
            "42000\n",
            "12000\n",
            "6000\n"
          ]
        }
      ]
    },
    {
      "cell_type": "code",
      "source": [
        "def getSize(dataSet):\n",
        "  ct = 0\n",
        "  for i in dataSet:\n",
        "    ct += 1\n",
        "  return ct"
      ],
      "metadata": {
        "id": "cYUhrvSnf_Dj"
      },
      "execution_count": null,
      "outputs": []
    },
    {
      "cell_type": "code",
      "source": [
        "train_loader = DataLoader(newTrainSet, batch_size=10, shuffle=True)\n",
        "\n",
        "val_loader = DataLoader(newTestSet, batch_size=len(newValSet), shuffle=True)\n",
        "val_train_loader = DataLoader(newTestSet, batch_size=20, shuffle=True)\n",
        "\n",
        "test_loader = DataLoader(newValSet, batch_size=40, shuffle=True)"
      ],
      "metadata": {
        "id": "NbsTfjcueh4_"
      },
      "execution_count": null,
      "outputs": []
    },
    {
      "cell_type": "code",
      "source": [
        "for i in train_loader:\n",
        "  print(i[0].shape)\n",
        "  break\n",
        "print(len(train_loader))"
      ],
      "metadata": {
        "colab": {
          "base_uri": "https://localhost:8080/"
        },
        "id": "8f3Y25Stk16u",
        "outputId": "036bf395-6354-4641-f5e6-0c90b34fd574"
      },
      "execution_count": null,
      "outputs": [
        {
          "output_type": "stream",
          "name": "stdout",
          "text": [
            "torch.Size([25, 1, 28, 28])\n",
            "3360\n"
          ]
        }
      ]
    },
    {
      "cell_type": "code",
      "source": [
        "import copy\n",
        "from collections import OrderedDict\n",
        "import torchvision\n",
        "from torch.utils.data import Dataset, DataLoader\n",
        "import torch\n",
        "import torch.utils.data as data\n",
        "import torchvision.datasets as datasets\n",
        "import torchvision.transforms as transforms\n",
        "import random\n",
        "import torch.nn as nn\n",
        "import numpy as np"
      ],
      "metadata": {
        "id": "zJ9sZ77hsg2I"
      },
      "execution_count": null,
      "outputs": []
    },
    {
      "cell_type": "code",
      "source": [
        "def accuracy(output, target):\n",
        "  ct = 0\n",
        "  for i in range(len(target)):\n",
        "    temp = output[i].argmax()\n",
        "    if temp == target[i]:\n",
        "      ct += 1\n",
        "  return float(ct) * 100 / len(target)\n",
        "\n",
        "def andry_pre(g):\n",
        "  c = (g.abs() >= np.exp(-10)).to(torch.float32)\n",
        "  x = c - 1 + torch.log(g.abs() + 2e-10) * c / 10\n",
        "  y = c * torch.sign(g) + (1 - c) * np.exp(10) * x\n",
        "  return torch.stack((x, y), 1)"
      ],
      "metadata": {
        "id": "bBVI79W7C-9R"
      },
      "execution_count": null,
      "outputs": []
    },
    {
      "cell_type": "code",
      "execution_count": null,
      "metadata": {
        "id": "gHLLAOPzsYb8"
      },
      "outputs": [],
      "source": [
        "class Learner(nn.Module):\n",
        "\n",
        "  def __init__(self, image_size, n_classes):\n",
        "    super(Learner, self).__init__()\n",
        "    self.model = nn.ModuleDict(\n",
        "        {'features': \n",
        "         nn.Sequential(OrderedDict([\n",
        "      ('conv1', nn.Conv2d(3, 32, 3, padding=1)),\n",
        "      ('norm1', nn.BatchNorm2d(32, 0.001, 0.95)),\n",
        "      ('relu1', nn.ReLU(inplace=False)),\n",
        "      ('pool1', nn.MaxPool2d(2)),\n",
        "\n",
        "      ('conv2', nn.Conv2d(32, 32, 3, padding=1)),\n",
        "      ('norm2', nn.BatchNorm2d(32, 0.001, 0.95)),\n",
        "      ('relu2', nn.ReLU(inplace=False)),\n",
        "      ('pool2', nn.MaxPool2d(2)),\n",
        "\n",
        "      ('conv3', nn.Conv2d(32, 32, 3, padding=1)),\n",
        "      ('norm3', nn.BatchNorm2d(32, 0.001, 0.95)),\n",
        "      ('relu3', nn.ReLU(inplace=False)),\n",
        "      ('pool3', nn.MaxPool2d(2)),\n",
        "\n",
        "      ('conv4', nn.Conv2d(32, 32, 3, padding=1)),\n",
        "      ('norm4', nn.BatchNorm2d(32, 0.001, 0.95)),\n",
        "      ('relu4', nn.ReLU(inplace=False)),\n",
        "      ('pool4', nn.MaxPool2d(2))]))\n",
        "    })\n",
        "\n",
        "    clr_in = image_size // 2**4\n",
        "    self.model.update({'cls': nn.Linear(32 * clr_in * clr_in, n_classes)})\n",
        "    self.loss = nn.CrossEntropyLoss()\n",
        "\n",
        "  def forward(self, x):\n",
        "    x = self.model.features(x)\n",
        "    x = torch.reshape(x, [x.size(0), -1])\n",
        "    outputs = self.model.cls(x)\n",
        "    return outputs\n",
        "\n",
        "  def get_param(self):\n",
        "    return torch.cat([p.view(-1) for p in self.model.parameters()], 0)\n",
        "\n",
        "  def copy_param(self, cI):\n",
        "    idx = 0\n",
        "    for p in self.model.parameters():\n",
        "      plen = p.view(-1).size(0)\n",
        "      p.data.copy_(cI[idx: idx+plen].view_as(p))\n",
        "      idx += plen\n",
        "\n",
        "  def transfer_params(self, model, cI):\n",
        "    self.load_state_dict(model.state_dict())\n",
        "    idx = 0\n",
        "    for m in self.model.modules():\n",
        "      if isinstance(m, nn.Conv2d) or isinstance(m, nn.BatchNorm2d) or isinstance(m, nn.Linear):\n",
        "        wlen = m._parameters['weight'].view(-1).size(0)\n",
        "        m._parameters['weight'] = cI[idx: idx+wlen].view_as(m._parameters['weight']).clone()\n",
        "        idx += wlen\n",
        "        if m._parameters['bias'] is not None:\n",
        "          blen = m._parameters['bias'].view(-1).size(0)\n",
        "          m._parameters['bias'] = cI[idx: idx+blen].view_as(m._parameters['bias']).clone()\n",
        "          idx += blen\n",
        "\n",
        "  def drop_to_default(self):\n",
        "    for m in self.modules():\n",
        "      if type(m) == nn.BatchNorm2d:\n",
        "        m.reset_running_stats()"
      ]
    },
    {
      "cell_type": "code",
      "source": [
        "import torch.nn.functional as F\n",
        "\n",
        "def semi_loss(pred, label, un_pred=None, t=0.8):\n",
        "  loss = F.cross_entropy(pred, label)\n",
        "  un_loss = 0\n",
        "  if un_pred is not None:\n",
        "    un_p = F.softmax(un_pred, dim=1)\n",
        "    avg_p = torch.mean(un_p, dim=0)\n",
        "    un_loss = torch.mean(torch.sum(-avg_p * torch.log(un_p + 1e-6), dim=1))\n",
        "\n",
        "  # combine the two losses\n",
        "  loss = loss + t * un_loss\n",
        "  return loss\n",
        "\n",
        "class MetaLSTMCell(nn.Module):\n",
        "  def __init__(self, n_learner_params):\n",
        "    super(MetaLSTMCell, self).__init__()\n",
        "    self.n_learner_params = n_learner_params\n",
        "    self.WF = nn.Parameter(torch.Tensor(22, 1))\n",
        "    self.WI = nn.Parameter(torch.Tensor(22, 1))\n",
        "    self.cI = nn.Parameter(torch.Tensor(n_learner_params, 1))\n",
        "    self.bI = nn.Parameter(torch.Tensor(1, 1))\n",
        "    self.bF = nn.Parameter(torch.Tensor(1, 1))\n",
        "    self.reset_parameters()\n",
        "\n",
        "  def reset_parameters(self):\n",
        "    for weight in self.parameters():\n",
        "      nn.init.uniform_(weight, -0.01, 0.01)\n",
        "      nn.init.uniform_(self.bF, 4, 6)\n",
        "      nn.init.uniform_(self.bI, -5, -4)\n",
        "\n",
        "  def init_cI(self, flat_params):\n",
        "    self.cI.data.copy_(flat_params.unsqueeze(1))\n",
        "\n",
        "  def forward(self, inputs, hx=None):\n",
        "\n",
        "    x_all, grad = inputs\n",
        "    batch, _ = x_all.size()\n",
        "\n",
        "    if hx is None:\n",
        "      f_p = torch.zeros((batch, 1)).to(self.WF.device)\n",
        "      i_p = torch.zeros((batch, 1)).to(self.WI.device)\n",
        "      c_p = self.cI\n",
        "      hx = [f_p, i_p, c_p]\n",
        "\n",
        "    f_p, i_p, c_p = hx\n",
        "        \n",
        "    f_next = torch.mm(torch.cat((x_all, c_p, f_p), 1), self.WF) + self.bF.expand_as(f_p)\n",
        "    i_next = torch.mm(torch.cat((x_all, c_p, i_p), 1), self.WI) + self.bI.expand_as(i_p)\n",
        "    c_next = torch.sigmoid(f_next).mul(c_p) - torch.sigmoid(i_next).mul(grad)\n",
        "    return c_next, [f_next, i_next, c_next]\n",
        "\n",
        "\n",
        "class MetaLearner(nn.Module):\n",
        "\n",
        "  def __init__(self, n_learner_params):\n",
        "    super(MetaLearner, self).__init__()\n",
        "    self.lstm = nn.LSTMCell(4, 20)\n",
        "    self.metalstm = MetaLSTMCell(n_learner_params=n_learner_params)\n",
        "\n",
        "  def forward(self, inputs, hs=None):\n",
        "    loss, grad_prep, grad = inputs\n",
        "    loss = loss.expand_as(grad_prep)\n",
        "    inputs = torch.cat((loss, grad_prep), 1)   # [n_learner_params, 4]\n",
        "    if hs is None:\n",
        "      hs = [None, None]\n",
        "    lstmhx, lstmcx = self.lstm(inputs, hs[0])\n",
        "    flat_learner_unsqzd, metalstm_hs = self.metalstm([lstmhx, grad], hs[1])\n",
        "    return flat_learner_unsqzd.squeeze(), [(lstmhx, lstmcx), metalstm_hs]"
      ],
      "metadata": {
        "id": "ssC3wFIxCnT2"
      },
      "execution_count": null,
      "outputs": []
    },
    {
      "cell_type": "code",
      "source": [
        "from PIL import Image\n",
        "import torchvision.transforms as T\n",
        "import matplotlib.pyplot as plt\n",
        "\n",
        "def meta_test(train_loader, val_loader, cnn,cnn_eval, metalearner):\n",
        "  transform = T.ToPILImage()\n",
        "\n",
        "  train_iter = iter(train_loader)\n",
        "  train_data, train_lable = next(train_iter)\n",
        "  train_data = train_data.to(torch.device('cuda'))\n",
        "  train_lable = train_lable.to(torch.device('cuda'))\n",
        "  print(train_data.shape)\n",
        "\n",
        "  val_iter = iter(val_loader)\n",
        "  val_data, val_label = next(val_iter)\n",
        "  val_data = val_data.to(torch.device('cuda'))\n",
        "  val_label = val_label.to(torch.device('cuda'))\n",
        "\n",
        "  cnn.drop_to_default()\n",
        "  cnn_eval.drop_to_default()\n",
        "  cnn.train()\n",
        "  cnn_eval.eval()\n",
        "  cI = train_learner(cnn, metalearner, train_data, train_lable)\n",
        "  cnn_eval.transfer_params(cnn, cI)\n",
        "  output = cnn_eval(val_data)\n",
        "\n",
        "  img = transform(val_data[0])\n",
        "  img.show()\n",
        "  print(output[0].argmax())\n",
        "  print(val_label[0])\n",
        "  # img = transform(output[0])\n",
        "  # img.show()\n",
        "  acc = accuracy(output, val_label)\n",
        "  return acc\n",
        "\n",
        "\n",
        "def train_learner(cnn, metalearner, train_input, train_target):\n",
        "  cI = metalearner.metalstm.cI.data\n",
        "  hs = [None]\n",
        "  for _ in range(12):\n",
        "    cnn.copy_param(cI)\n",
        "    output = cnn(train_input)\n",
        "    loss = cnn.loss(output, train_target)\n",
        "    cnn.zero_grad()\n",
        "    loss.backward()\n",
        "    grad = torch.cat([p.grad.data.view(-1) / 10 for p in cnn.parameters()], 0)\n",
        "    grad_prep = andry_pre(grad)  # [n_learner_params, 2]\n",
        "    loss_prep = andry_pre(loss.data.unsqueeze(0)) # [1, 2]\n",
        "    metalearner_input = [loss_prep, grad_prep, grad.unsqueeze(1)]\n",
        "    cI, h = metalearner(metalearner_input, hs[-1])\n",
        "    hs.append(h)\n",
        "  return cI\n",
        "\n",
        "cnn = Learner(32, 0.001, 0.95, 10).to(torch.device('cuda'))\n",
        "cnn_eval = Learner(32, 0.001, 0.95, 10).to(torch.device('cuda'))\n",
        "metalearner = MetaLearner(cnn.get_param().size(0)).to(torch.device('cuda'))\n",
        "metalearner.metalstm.init_cI(cnn.get_param())\n",
        "\n",
        "\n",
        "optim = torch.optim.Adam(metalearner.parameters(), 0.001)\n",
        "\n",
        "train_acc_list = []\n",
        "valid_acc_list = []\n",
        "best_acc = float(0.0)\n",
        "print(best_acc)\n",
        "# Meta-training\n",
        "test = iter(test_loader)\n",
        "ct = 0\n",
        "for eps, (train_input, train_target) in enumerate(train_loader):\n",
        "  # print(train_target)\n",
        "  try:\n",
        "    test_input, test_target = next(test)\n",
        "  except StopIteration:\n",
        "    test = iter(test_loader)\n",
        "    test_input, test_target = next(test)\n",
        "  test_input = test_input.to(torch.device('cuda'))\n",
        "  test_target = test_target.to(torch.device('cuda'))\n",
        "  train_input = train_input.to(torch.device('cuda'))\n",
        "  train_target = train_target.to(torch.device('cuda'))\n",
        "  cnn.drop_to_default()\n",
        "  cnn_eval.drop_to_default()\n",
        "  cnn.train()\n",
        "  cnn_eval.train()\n",
        "  cI = train_learner(cnn, metalearner, train_input, train_target)\n",
        "  cnn_eval.transfer_params(cnn, cI)\n",
        "  output = cnn_eval(test_input)\n",
        "  loss = cnn_eval.loss(output, test_target)\n",
        "  optim.zero_grad()\n",
        "  loss.backward()\n",
        "  nn.utils.clip_grad_norm_(metalearner.parameters(), 0.25)\n",
        "  optim.step()\n",
        "  acc = accuracy(output, test_target)\n",
        "  train_acc_list.append(acc)\n",
        "  if eps % 100 == 0 and eps != 0:\n",
        "    acc = meta_test(val_train_loader, val_loader, cnn,cnn_eval, metalearner)\n",
        "    valid_acc_list.append([acc] * 100)\n",
        "    if float(acc) > float(best_acc):\n",
        "      best_acc = acc\n",
        "      print(\"Epoch \" + str(eps) +\": * Best accuracy so far :\" + str(acc))\n",
        "    else:\n",
        "      print(\"Epoch \" + str(eps) + \": \" + str(acc))\n",
        "# logger.loginfo(\"Done\")\n",
        "\n",
        "print('test learner')\n",
        "output = cnn(test_input)\n",
        "acc = accuracy(output, test_target)\n",
        "print(acc)"
      ],
      "metadata": {
        "id": "WeHtwcCHDEM2"
      },
      "execution_count": null,
      "outputs": []
    },
    {
      "cell_type": "code",
      "source": [
        "mergeDataSet = torch.utils.data.ConcatDataset([cifar_train, cifar_test])\n",
        "newTrainSet , newTestSet, newValSet = torch.utils.data.random_split(mergeDataSet, [0.7, 0.2, 0.1], generator=torch.Generator().manual_seed(423))\n",
        "\n",
        "train_loader = DataLoader(newTrainSet, batch_size=10, shuffle=True)\n",
        "\n",
        "val_loader = DataLoader(newTestSet, batch_size=len(newValSet), shuffle=True)\n",
        "val_train_loader = DataLoader(newTestSet, batch_size=20, shuffle=True)\n",
        "\n",
        "test_loader = DataLoader(newValSet, batch_size=40, shuffle=True)"
      ],
      "metadata": {
        "id": "JYl41v4SKoRV"
      },
      "execution_count": null,
      "outputs": []
    },
    {
      "cell_type": "code",
      "source": [
        "learner_w_grad = copy.deepcopy(baseline)\n",
        "output = learner_w_grad(test_input)\n",
        "acc = accuracy(output, test_target)\n",
        "print(acc)"
      ],
      "metadata": {
        "colab": {
          "base_uri": "https://localhost:8080/"
        },
        "id": "E69EuzlE-TVX",
        "outputId": "4fa74ada-bf37-4e85-d058-aefede2fb6b2"
      },
      "execution_count": null,
      "outputs": [
        {
          "output_type": "stream",
          "name": "stdout",
          "text": [
            "17.5\n"
          ]
        }
      ]
    },
    {
      "cell_type": "code",
      "source": [
        "print(meta_test(val_train_loader, val_loader, cnn, metalearner))"
      ],
      "metadata": {
        "colab": {
          "base_uri": "https://localhost:8080/",
          "height": 122
        },
        "id": "HlYpFuZiQow3",
        "outputId": "f857b151-6bc2-4d3f-a7a3-16b1d98ab602"
      },
      "execution_count": null,
      "outputs": [
        {
          "output_type": "stream",
          "name": "stdout",
          "text": [
            "torch.Size([20, 3, 32, 32])\n"
          ]
        },
        {
          "output_type": "display_data",
          "data": {
            "text/plain": [
              "<PIL.Image.Image image mode=RGB size=32x32 at 0x7FB983781DB0>"
            ],
            "image/png": "[encoded data removed]"
          },
          "metadata": {}
        },
        {
          "output_type": "stream",
          "name": "stdout",
          "text": [
            "tensor(7, device='cuda:0')\n",
            "tensor(2, device='cuda:0')\n",
            "50.916666666666664\n"
          ]
        }
      ]
    },
    {
      "cell_type": "code",
      "source": [
        "import torch\n",
        "import torchvision\n",
        "import numpy as np\n",
        "from torch.utils.data import Dataset, DataLoader\n",
        "\n",
        "# Load CIFAR-100 dataset\n",
        "trainset = torchvision.datasets.CIFAR100(root='./data', train=True, download=True, transform=torchvision.transforms.ToTensor())\n",
        "\n",
        "# Define superclass labels and mapping\n",
        "superclasses = ['aquatic_mammals', 'fish', 'flowers', 'food_containers', 'fruit_and_vegetables', 'household_electrical_devices', 'household_furniture', 'insects', 'large_carnivores', 'large_man-made_outdoor_things', 'large_natural_outdoor_scenes', 'large_omnivores_and_herbivores', 'medium_mammals', 'non-insect_invertebrates', 'people', 'reptiles', 'small_mammals', 'trees', 'vehicles_1', 'vehicles_2']\n",
        "superclass_mapping = {k: v for v, k in enumerate(superclasses)}\n",
        "clsToSuper = {\"beaver\": \"aquatic mammals\", \"dolphin\" : \"aquatic mammals\", \"otter\": \"aquatic mammals\", \"seal\" : \"aquatic mammals\", \"whale\" : \"aquatic_mammals\",\n",
        "              \t\"aquarium_fish\" : 'fish', \"flatfish\": 'fish', \"ray\": 'fish', \"shark\": 'fish', \"trout\": 'fish',\n",
        "              \"orchid\": 'flowers', \"poppy\": 'flowers', \"rose\": 'flowers', \"sunflower\": 'flowers', \"tulip\": 'flowers',\n",
        "              \t\"bottle\": 'food_containers', \"bowl\": 'food_containers', \"can\": 'food_containers', \"cup\": 'food_containers', \"plate\": 'food_containers',\n",
        "              \"apple\":'fruit_and_vegetables', \"mushroom\": 'fruit_and_vegetables', \"orange\": 'fruit_and_vegetables', \"pear\": 'fruit_and_vegetables', \"sweet_pepper\": 'fruit_and_vegetables',\n",
        "              \"clock\": 'household_electrical_devices', \"keyboard\": 'household_electrical_devices', \"lamp\": 'household_electrical_devices', \"telephone\": 'household_electrical_devices', \"television\": 'household_electrical_devices',\n",
        "              \t\"bed\": 'household_furniture', \"chair\": 'household_furniture', \"couch\": 'household_furniture', \"table\": 'household_furniture', \"wardrobe\": 'household_furniture',\n",
        "              \t\"bee\": 'insects', \"beetle\": 'insects', \"butterfly\": 'insects', \"caterpillar\": 'insects', \"cockroach\": 'insects',\n",
        "              \t\"bear\": 'large_carnivores', \"leopard\": 'large_carnivores', \"lion\": 'large_carnivores', \"tiger\": 'large_carnivores', \"wolf\": 'large_carnivores',\n",
        "              \"bridge\": 'large_man-made_outdoor_things', \"castle\": 'large_man-made_outdoor_things', \"house\": 'large_man-made_outdoor_things', \"road\": 'large_man-made_outdoor_things', \"skyscraper\": 'large_man-made_outdoor_things',\n",
        "              \"cloud\": 'large_natural_outdoor_scenes', \"forest\": 'large_natural_outdoor_scenes', \"mountain\": 'large_natural_outdoor_scenes', \"plain\": 'large_natural_outdoor_scenes', \"sea\": 'large_natural_outdoor_scenes',\n",
        "              \"camel\": 'large_omnivores_and_herbivores', \"cattle\": 'large_omnivores_and_herbivores', \"chimpanzee\": 'large_omnivores_and_herbivores', \"elephant\": 'large_omnivores_and_herbivores', \"kangaroo\": 'large_omnivores_and_herbivores',\n",
        "              \t\"fox\":'medium_mammals', \"porcupine\":'medium_mammals', \"possum\":'medium_mammals', \"raccoon\":'medium_mammals', \"skunk\":'medium_mammals',\n",
        "              \t\"crab\":'non-insect_invertebrates', \"lobster\":'non-insect_invertebrates', \"snail\": 'non-insect_invertebrates', \"spider\": 'non-insect_invertebrates', \"worm\":'non-insect_invertebrates',\n",
        "              \"baby\":'people', \"boy\":'people', \"girl\":'people', \"man\":'people', \"woman\":'people',\n",
        "              \"crocodile\":'reptiles', \"dinosaur\":'reptiles', \"lizard\":'reptiles', \"snake\":'reptiles', \"turtle\":'reptiles',\n",
        "              \"hamster\":'small_mammals', \"mouse\":'small_mammals', \"rabbit\":'small_mammals', \"shrew\":'small_mammals', \"squirrel\":'small_mammals',\n",
        "              \t\"maple_tree\":'trees', \"oak_tree\":'trees', \"palm_tree\":'trees', \"pine_tree\":'trees', \"willow_tree\":'trees',\n",
        "              \t\"bicycle\":'vehicles_1', \"bus\":'vehicles_1', \"motorcycle\":'vehicles_1', \"pickup_truck\":'vehicles_1', \"train\":'vehicles_1',\n",
        "              \t\"lawn_mower\":'vehicles_2', \"rocket\":'vehicles_2', \"streetcar\":'vehicles_2', \"tank\":'vehicles_2', \"tractor\":'vehicles_2'}\n",
        "clss = trainset.classes\n",
        "print(trainset[0][0].shape)\n",
        "class SuperclassDataset(Dataset):\n",
        "    def __init__(self, dataset, superclass1, superclass2):\n",
        "        self.dataset = dataset\n",
        "        self.indices = []\n",
        "        for i in range(0, len(dataset)):\n",
        "          temp = clsToSuper[clss[dataset[i][1]]]\n",
        "          if temp == superclass1 or temp == superclass2:\n",
        "            self.indices.append(i)\n",
        "    def __getitem__(self, index):\n",
        "        return self.dataset[self.indices[index]]\n",
        "\n",
        "    def __len__(self):\n",
        "        return len(self.indices)\n",
        "class testData(Dataset):\n",
        "    def __init__(self, dataset, cls):\n",
        "        print(cls)\n",
        "        self.dataset = dataset\n",
        "        self.indices = []\n",
        "        for i in range(0, len(dataset)):\n",
        "          temp = dataset[i][1]\n",
        "          if temp == cls:\n",
        "            self.indices.append(i)\n",
        "    def __getitem__(self, index):\n",
        "        return self.dataset[self.indices[index]]\n",
        "\n",
        "    def __len__(self):\n",
        "        return len(self.indices)\n",
        "\n",
        "class validData(Dataset):\n",
        "    def __init__(self, dataset):\n",
        "        self.dataset = dataset\n",
        "        self.indices = []\n",
        "        for i in range(0, len(dataset)):\n",
        "          temp = dataset[i][1]\n",
        "          if temp < 10:\n",
        "            self.indices.append(i)\n",
        "    def __getitem__(self, index):\n",
        "        return self.dataset[self.indices[index]]\n",
        "\n",
        "    def __len__(self):\n",
        "        return len(self.indices)\n",
        "# Define dataloaders for each superclass\n",
        "trainloaders = {}\n",
        "testloaders = {}\n",
        "test_list = []\n",
        "for i in range(0, 5):\n",
        "  test_list.append((superclasses[2 * i], superclasses[2*i + 1]))\n",
        "total_acc = 0"
      ],
      "metadata": {
        "id": "J1tHrqwJTkFk",
        "colab": {
          "base_uri": "https://localhost:8080/"
        },
        "outputId": "737a997f-b626-430c-a814-05593783e8bf"
      },
      "execution_count": null,
      "outputs": [
        {
          "output_type": "stream",
          "name": "stdout",
          "text": [
            "Downloading https://www.cs.toronto.edu/~kriz/cifar-100-python.tar.gz to ./data/cifar-100-python.tar.gz\n"
          ]
        },
        {
          "output_type": "stream",
          "name": "stderr",
          "text": [
            "100%|██████████| 169001437/169001437 [00:02<00:00, 78898564.59it/s]\n"
          ]
        },
        {
          "output_type": "stream",
          "name": "stdout",
          "text": [
            "Extracting ./data/cifar-100-python.tar.gz to ./data\n",
            "torch.Size([3, 32, 32])\n"
          ]
        }
      ]
    },
    {
      "cell_type": "code",
      "source": [
        "cifar_loader = []\n",
        "valid_laoder = DataLoader(validData(trainset), batch_size=len(trainset), shuffle=True)\n",
        "for i in range(0, 10):\n",
        "  print(trainset)\n",
        "  cifar_loader.append(DataLoader(testData(trainset, i), batch_size=1, shuffle=True))"
      ],
      "metadata": {
        "id": "butrnLOSElrW",
        "colab": {
          "base_uri": "https://localhost:8080/"
        },
        "outputId": "b78640d7-8d31-4dc5-b0e2-961012b02327"
      },
      "execution_count": null,
      "outputs": [
        {
          "output_type": "stream",
          "name": "stdout",
          "text": [
            "Dataset CIFAR100\n",
            "    Number of datapoints: 50000\n",
            "    Root location: ./data\n",
            "    Split: Train\n",
            "    StandardTransform\n",
            "Transform: ToTensor()\n",
            "0\n",
            "Dataset CIFAR100\n",
            "    Number of datapoints: 50000\n",
            "    Root location: ./data\n",
            "    Split: Train\n",
            "    StandardTransform\n",
            "Transform: ToTensor()\n",
            "1\n",
            "Dataset CIFAR100\n",
            "    Number of datapoints: 50000\n",
            "    Root location: ./data\n",
            "    Split: Train\n",
            "    StandardTransform\n",
            "Transform: ToTensor()\n",
            "2\n",
            "Dataset CIFAR100\n",
            "    Number of datapoints: 50000\n",
            "    Root location: ./data\n",
            "    Split: Train\n",
            "    StandardTransform\n",
            "Transform: ToTensor()\n",
            "3\n",
            "Dataset CIFAR100\n",
            "    Number of datapoints: 50000\n",
            "    Root location: ./data\n",
            "    Split: Train\n",
            "    StandardTransform\n",
            "Transform: ToTensor()\n",
            "4\n",
            "Dataset CIFAR100\n",
            "    Number of datapoints: 50000\n",
            "    Root location: ./data\n",
            "    Split: Train\n",
            "    StandardTransform\n",
            "Transform: ToTensor()\n",
            "5\n",
            "Dataset CIFAR100\n",
            "    Number of datapoints: 50000\n",
            "    Root location: ./data\n",
            "    Split: Train\n",
            "    StandardTransform\n",
            "Transform: ToTensor()\n",
            "6\n",
            "Dataset CIFAR100\n",
            "    Number of datapoints: 50000\n",
            "    Root location: ./data\n",
            "    Split: Train\n",
            "    StandardTransform\n",
            "Transform: ToTensor()\n",
            "7\n",
            "Dataset CIFAR100\n",
            "    Number of datapoints: 50000\n",
            "    Root location: ./data\n",
            "    Split: Train\n",
            "    StandardTransform\n",
            "Transform: ToTensor()\n",
            "8\n",
            "Dataset CIFAR100\n",
            "    Number of datapoints: 50000\n",
            "    Root location: ./data\n",
            "    Split: Train\n",
            "    StandardTransform\n",
            "Transform: ToTensor()\n",
            "9\n"
          ]
        }
      ]
    },
    {
      "cell_type": "code",
      "source": [
        "train_data = []\n",
        "train_label = []\n",
        "ul_data = []\n",
        "test_data = []\n",
        "test_label = []\n",
        "ct = 0\n",
        "for i in random.sample(cifar_loader, 10):\n",
        "  data, label = next(iter(i))\n",
        "  train_data.append(i)\n",
        "  train_label.append(ct)\n",
        "  ct += 1\n",
        "  data, label = next(iter(i))\n",
        "  ul_data.append(data)\n",
        "  data, label = next(iter(i))\n",
        "  test_data.append(data)\n",
        "  test_label.append(label)\n",
        "train_data = torch.concat(train_data, 0)\n",
        "train_label = torch.tensor(train_label)\n",
        "ul_data = torch.concat(ul_data, 0)\n",
        "test_data = torch.concat(test_data, 0)\n",
        "test_label = torch.concat(test_label, 0)"
      ],
      "metadata": {
        "id": "-kY3xFvsQzNQ"
      },
      "execution_count": null,
      "outputs": []
    },
    {
      "cell_type": "code",
      "source": [],
      "metadata": {
        "id": "LR8q9lk12IpY"
      },
      "execution_count": null,
      "outputs": []
    },
    {
      "cell_type": "code",
      "source": [
        "cifar_train_data = []\n",
        "cifar_train_label = []\n",
        "cifar_iter = []\n",
        "for i in range(0, 10):\n",
        "  cifar_iter.append(iter(cifar_loader[i]))\n",
        "  data, label = next(cifar_iter[i])\n",
        "  cifar_train_data.append(data)\n",
        "  cifar_train_label.append(label)\n",
        "cifar_train_data = torch.concat(cifar_train_data, 0)\n",
        "cifar_train_label = torch.concat(cifar_train_label, 0)\n",
        "print(cifar_train_data.shape)\n",
        "print(cifar_train_label)\n",
        "cifar_train_un_data = []\n",
        "for i in range(0, 10):\n",
        "  data, _ = next(cifar_iter[i])\n",
        "  cifar_train_un_data.append(data)\n",
        "cifar_train_un_data = torch.concat(cifar_train_un_data, 0)\n",
        "\n",
        "# valid_laoder = DataLoader(validData(trainset), batch_size=len(trainset), shuffle=True)\n",
        "valid_data, valid_label = next(iter(valid_laoder))\n",
        "print(valid_data.shape)"
      ],
      "metadata": {
        "colab": {
          "base_uri": "https://localhost:8080/"
        },
        "id": "6gQpd66ELxNm",
        "outputId": "63b19128-f1f1-4d25-a669-2d2feaeb4cb9"
      },
      "execution_count": null,
      "outputs": [
        {
          "output_type": "stream",
          "name": "stdout",
          "text": [
            "torch.Size([10, 3, 32, 32])\n",
            "tensor([0, 1, 2, 3, 4, 5, 6, 7, 8, 9])\n",
            "torch.Size([5000, 3, 32, 32])\n"
          ]
        }
      ]
    },
    {
      "cell_type": "code",
      "source": [
        "for x, y in train_loader:\n",
        "  print(y)"
      ],
      "metadata": {
        "id": "lHU67dmSE73A"
      },
      "execution_count": null,
      "outputs": []
    },
    {
      "cell_type": "code",
      "source": [
        "print(meta_test(train_loader, train_loader, learner_w_grad, metalearner))"
      ],
      "metadata": {
        "colab": {
          "base_uri": "https://localhost:8080/",
          "height": 104
        },
        "id": "z0AE60rVFHdZ",
        "outputId": "888373dc-55aa-4fae-b54c-f31cc6fc7bc5"
      },
      "execution_count": null,
      "outputs": [
        {
          "output_type": "display_data",
          "data": {
            "text/plain": [
              "<PIL.Image.Image image mode=RGB size=32x32 at 0x7FB8BA9DFA30>"
            ],
            "image/png": "[encoded data removed]"
          },
          "metadata": {}
        },
        {
          "output_type": "stream",
          "name": "stdout",
          "text": [
            "tensor(6, device='cuda:0')\n",
            "tensor(5, device='cuda:0')\n",
            "25.0\n"
          ]
        }
      ]
    },
    {
      "cell_type": "code",
      "source": [
        "def meta_valid(train_data, train_lable, unl_data, val_data, val_label, learner, metalearner):\n",
        "  transform = T.ToPILImage()\n",
        "  train_data = train_data.to(torch.device('cuda'))\n",
        "  train_lable = train_lable.to(torch.device('cuda'))\n",
        "  unl_data = unl_data.to(torch.device('cuda'))\n",
        "  val_data = val_data.to(torch.device('cuda'))\n",
        "  val_label = val_label.to(torch.device('cuda'))\n",
        "  print(train_data.shape)\n",
        "  learner.drop_to_default()\n",
        "  learner.train()\n",
        "  cI = train_learner(learner, metalearner, train_data, unl_data, train_lable)\n",
        "  learner.copy_param(cI)\n",
        "  output = learner(val_data)\n",
        "\n",
        "  img = transform(train_data[0])\n",
        "  img.show()\n",
        "  print(output[0].argmax())\n",
        "  print(train_lable[0])\n",
        "  # img = transform(output[0])\n",
        "  # img.show()\n",
        "  acc = accuracy(output, val_label)\n",
        "  return acc\n",
        "print(meta_valid(cifar_train_data, cifar_train_label, cifar_train_un_data, valid_data, valid_label, learner_w_grad, metalearner))"
      ],
      "metadata": {
        "id": "csc3bRG8vgC_",
        "colab": {
          "base_uri": "https://localhost:8080/",
          "height": 122
        },
        "outputId": "003a27ac-643b-45a3-b2bf-1a7cfa334a5a"
      },
      "execution_count": null,
      "outputs": [
        {
          "output_type": "stream",
          "name": "stdout",
          "text": [
            "torch.Size([10, 3, 32, 32])\n"
          ]
        },
        {
          "output_type": "display_data",
          "data": {
            "text/plain": [
              "<PIL.Image.Image image mode=RGB size=32x32 at 0x7FB8A3078370>"
            ],
            "image/png": "[encoded data removed]"
          },
          "metadata": {}
        },
        {
          "output_type": "stream",
          "name": "stdout",
          "text": [
            "tensor(7, device='cuda:0')\n",
            "tensor(0, device='cuda:0')\n",
            "10.56\n"
          ]
        }
      ]
    },
    {
      "cell_type": "code",
      "source": [
        "train_loader = DataLoader(cifar_train, batch_size=100, shuffle=True)\n",
        "\n",
        "val_loader = DataLoader(newTestSet, batch_size=len(newValSet), shuffle=True)\n",
        "val_train_loader = DataLoader(newTestSet, batch_size=20, shuffle=True)\n",
        "\n",
        "test_loader = DataLoader(newValSet, batch_size=40, shuffle=True)\n",
        "\n",
        "cnn_bench = Learner(32, 0.001, 0.95, 10).to(torch.device('cuda'))\n",
        "optim1 = torch.optim.Adam(cnn_bench.parameters(), 0.001)\n",
        "test = iter(test_loader)\n",
        "cnn_bench.train()\n",
        "for eps, (train_input, train_target) in enumerate(train_loader):\n",
        "  \n",
        "  train_input = train_input.to(torch.device('cuda'))\n",
        "  train_target = train_target.to(torch.device('cuda'))\n",
        "  \n",
        "\n",
        "  output = cnn_bench(train_input)\n",
        "  loss = cnn_bench.loss(output, train_target)\n",
        "\n",
        "  loss.backward()\n",
        "  optim1.step()\n",
        "  if eps%100 == 0 and eps!=0:\n",
        "    try:\n",
        "      test_input, test_target = next(test)\n",
        "    except StopIteration:\n",
        "      test = iter(test_loader)\n",
        "      test_input, test_target = next(test)\n",
        "    test_input = test_input.to(torch.device('cuda'))\n",
        "    test_target = test_target.to(torch.device('cuda'))\n",
        "    test_o = cnn_bench(test_input)\n",
        "    acc = accuracy(test_o, test_target)\n",
        "    print(eps)\n",
        "    print(acc)"
      ],
      "metadata": {
        "colab": {
          "base_uri": "https://localhost:8080/"
        },
        "id": "fE7vYts38JED",
        "outputId": "0de063d2-bb5f-40d4-9702-eee764d39e1a"
      },
      "execution_count": null,
      "outputs": [
        {
          "output_type": "stream",
          "name": "stdout",
          "text": [
            "100\n",
            "17.5\n",
            "200\n",
            "20.0\n",
            "300\n",
            "20.0\n",
            "400\n",
            "15.0\n"
          ]
        }
      ]
    },
    {
      "cell_type": "code",
      "source": [
        "print(clss)"
      ],
      "metadata": {
        "colab": {
          "base_uri": "https://localhost:8080/"
        },
        "id": "lPAbXFoWbzQA",
        "outputId": "7866aa6b-a496-4d84-f805-b9d9ff6a8ff8"
      },
      "execution_count": null,
      "outputs": [
        {
          "output_type": "stream",
          "name": "stdout",
          "text": [
            "['apple', 'aquarium_fish', 'baby', 'bear', 'beaver', 'bed', 'bee', 'beetle', 'bicycle', 'bottle', 'bowl', 'boy', 'bridge', 'bus', 'butterfly', 'camel', 'can', 'castle', 'caterpillar', 'cattle', 'chair', 'chimpanzee', 'clock', 'cloud', 'cockroach', 'couch', 'crab', 'crocodile', 'cup', 'dinosaur', 'dolphin', 'elephant', 'flatfish', 'forest', 'fox', 'girl', 'hamster', 'house', 'kangaroo', 'keyboard', 'lamp', 'lawn_mower', 'leopard', 'lion', 'lizard', 'lobster', 'man', 'maple_tree', 'motorcycle', 'mountain', 'mouse', 'mushroom', 'oak_tree', 'orange', 'orchid', 'otter', 'palm_tree', 'pear', 'pickup_truck', 'pine_tree', 'plain', 'plate', 'poppy', 'porcupine', 'possum', 'rabbit', 'raccoon', 'ray', 'road', 'rocket', 'rose', 'sea', 'seal', 'shark', 'shrew', 'skunk', 'skyscraper', 'snail', 'snake', 'spider', 'squirrel', 'streetcar', 'sunflower', 'sweet_pepper', 'table', 'tank', 'telephone', 'television', 'tiger', 'tractor', 'train', 'trout', 'tulip', 'turtle', 'wardrobe', 'whale', 'willow_tree', 'wolf', 'woman', 'worm']\n"
          ]
        }
      ]
    },
    {
      "cell_type": "code",
      "source": [
        "print(trainloaders['fish'])\n",
        "it = iter(trainloaders['fish'])\n",
        "data, label = next(it)\n",
        "transform = T.ToPILImage()\n",
        "print(label)\n",
        "for i in range(0, 75):\n",
        "\n",
        "  img = transform(data[i])\n",
        "  img.show()"
      ],
      "metadata": {
        "colab": {
          "base_uri": "https://localhost:8080/",
          "height": 1000
        },
        "id": "SXXHGqzUW8wZ",
        "outputId": "5098e029-0c8e-4eb2-9a37-1fedd8c43870"
      },
      "execution_count": null,
      "outputs": [
        {
          "output_type": "stream",
          "name": "stdout",
          "text": [
            "<torch.utils.data.dataloader.DataLoader object at 0x7f808e7abc10>\n",
            "tensor([67, 73, 73, 91, 67, 73,  1, 32,  1, 67, 32, 67,  1, 32,  1, 67, 32, 32,\n",
            "        73, 32, 91, 91,  1, 91, 32, 67, 32, 32, 67, 73, 73, 73, 73, 32, 91, 91,\n",
            "        32, 67, 32, 91, 91, 67,  1, 91, 32, 67, 91, 32, 91, 32,  1, 67, 67, 73,\n",
            "        32, 67,  1, 91, 73, 91, 67, 73, 32, 67,  1, 67, 73, 91, 91, 73, 67, 32,\n",
            "         1, 91, 32])\n"
          ]
        },
        {
          "output_type": "display_data",
          "data": {
            "text/plain": [
              "<PIL.Image.Image image mode=RGB size=32x32 at 0x7F808E1AE800>"
            ],
            "image/png": "[encoded data removed]"
          },
          "metadata": {}
        },
        {
          "output_type": "display_data",
          "data": {
            "text/plain": [
              "<PIL.Image.Image image mode=RGB size=32x32 at 0x7F808E0E9330>"
            ],
            "image/png": "[encoded data removed]"
          },
          "metadata": {}
        },
        {
          "output_type": "display_data",
          "data": {
            "text/plain": [
              "<PIL.Image.Image image mode=RGB size=32x32 at 0x7F808E1AF6A0>"
            ],
            "image/png": "[encoded data removed]"
          },
          "metadata": {}
        },
        {
          "output_type": "display_data",
          "data": {
            "text/plain": [
              "<PIL.Image.Image image mode=RGB size=32x32 at 0x7F808E1ADA50>"
            ],
            "image/png": "[encoded data removed]"
          },
          "metadata": {}
        },
        {
          "output_type": "display_data",
          "data": {
            "text/plain": [
              "<PIL.Image.Image image mode=RGB size=32x32 at 0x7F808E1AE800>"
            ],
            "image/png": "[encoded data removed]"
          },
          "metadata": {}
        },
        {
          "output_type": "display_data",
          "data": {
            "text/plain": [
              "<PIL.Image.Image image mode=RGB size=32x32 at 0x7F808E1AF6A0>"
            ],
            "image/png": "[encoded data removed]"
          },
          "metadata": {}
        },
        {
          "output_type": "display_data",
          "data": {
            "text/plain": [
              "<PIL.Image.Image image mode=RGB size=32x32 at 0x7F808E0EA320>"
            ],
            "image/png": "[encoded data removed]"
          },
          "metadata": {}
        },
        {
          "output_type": "display_data",
          "data": {
            "text/plain": [
              "<PIL.Image.Image image mode=RGB size=32x32 at 0x7F808E0E83D0>"
            ],
            "image/png": "[encoded data removed]"
          },
          "metadata": {}
        },
        {
          "output_type": "display_data",
          "data": {
            "text/plain": [
              "<PIL.Image.Image image mode=RGB size=32x32 at 0x7F808E0E8520>"
            ],
            "image/png": "[encoded data removed]"
          },
          "metadata": {}
        },
        {
          "output_type": "display_data",
          "data": {
            "text/plain": [
              "<PIL.Image.Image image mode=RGB size=32x32 at 0x7F808E1ACC70>"
            ],
            "image/png": "[encoded data removed]"
          },
          "metadata": {}
        },
        {
          "output_type": "display_data",
          "data": {
            "text/plain": [
              "<PIL.Image.Image image mode=RGB size=32x32 at 0x7F808E1AE800>"
            ],
            "image/png": "[encoded data removed]"
          },
          "metadata": {}
        },
        {
          "output_type": "display_data",
          "data": {
            "text/plain": [
              "<PIL.Image.Image image mode=RGB size=32x32 at 0x7F808E1ADA50>"
            ],
            "image/png": "[encoded data removed]"
          },
          "metadata": {}
        },
        {
          "output_type": "display_data",
          "data": {
            "text/plain": [
              "<PIL.Image.Image image mode=RGB size=32x32 at 0x7F808E1ACC70>"
            ],
            "image/png": "[encoded data removed]"
          },
          "metadata": {}
        },
        {
          "output_type": "display_data",
          "data": {
            "text/plain": [
              "<PIL.Image.Image image mode=RGB size=32x32 at 0x7F808E1AE800>"
            ],
            "image/png": "[encoded data removed]"
          },
          "metadata": {}
        },
        {
          "output_type": "display_data",
          "data": {
            "text/plain": [
              "<PIL.Image.Image image mode=RGB size=32x32 at 0x7F808E1ADA50>"
            ],
            "image/png": "[encoded data removed]"
          },
          "metadata": {}
        },
        {
          "output_type": "display_data",
          "data": {
            "text/plain": [
              "<PIL.Image.Image image mode=RGB size=32x32 at 0x7F808E1AC0D0>"
            ],
            "image/png": "[encoded data removed]"
          },
          "metadata": {}
        },
        {
          "output_type": "display_data",
          "data": {
            "text/plain": [
              "<PIL.Image.Image image mode=RGB size=32x32 at 0x7F808E1AE800>"
            ],
            "image/png": "[encoded data removed]"
          },
          "metadata": {}
        },
        {
          "output_type": "display_data",
          "data": {
            "text/plain": [
              "<PIL.Image.Image image mode=RGB size=32x32 at 0x7F808E1ADA50>"
            ],
            "image/png": "[encoded data removed]"
          },
          "metadata": {}
        },
        {
          "output_type": "display_data",
          "data": {
            "text/plain": [
              "<PIL.Image.Image image mode=RGB size=32x32 at 0x7F808E1AC0D0>"
            ],
            "image/png": "[encoded data removed]"
          },
          "metadata": {}
        },
        {
          "output_type": "display_data",
          "data": {
            "text/plain": [
              "<PIL.Image.Image image mode=RGB size=32x32 at 0x7F808E1AE800>"
            ],
            "image/png": "[encoded data removed]"
          },
          "metadata": {}
        },
        {
          "output_type": "display_data",
          "data": {
            "text/plain": [
              "<PIL.Image.Image image mode=RGB size=32x32 at 0x7F808E1AF6A0>"
            ],
            "image/png": "[encoded data removed]"
          },
          "metadata": {}
        },
        {
          "output_type": "display_data",
          "data": {
            "text/plain": [
              "<PIL.Image.Image image mode=RGB size=32x32 at 0x7F808E1ADA50>"
            ],
            "image/png": "[encoded data removed]"
          },
          "metadata": {}
        },
        {
          "output_type": "display_data",
          "data": {
            "text/plain": [
              "<PIL.Image.Image image mode=RGB size=32x32 at 0x7F808E1AE800>"
            ],
            "image/png": "[encoded data removed]"
          },
          "metadata": {}
        },
        {
          "output_type": "display_data",
          "data": {
            "text/plain": [
              "<PIL.Image.Image image mode=RGB size=32x32 at 0x7F808E1ACC70>"
            ],
            "image/png": "[encoded data removed]"
          },
          "metadata": {}
        },
        {
          "output_type": "display_data",
          "data": {
            "text/plain": [
              "<PIL.Image.Image image mode=RGB size=32x32 at 0x7F808E1AF6A0>"
            ],
            "image/png": "[encoded data removed]"
          },
          "metadata": {}
        },
        {
          "output_type": "display_data",
          "data": {
            "text/plain": [
              "<PIL.Image.Image image mode=RGB size=32x32 at 0x7F808E1AE800>"
            ],
            "image/png": "[encoded data removed]"
          },
          "metadata": {}
        },
        {
          "output_type": "display_data",
          "data": {
            "text/plain": [
              "<PIL.Image.Image image mode=RGB size=32x32 at 0x7F808E1AC0D0>"
            ],
            "image/png": "[encoded data removed]"
          },
          "metadata": {}
        },
        {
          "output_type": "display_data",
          "data": {
            "text/plain": [
              "<PIL.Image.Image image mode=RGB size=32x32 at 0x7F808E1ACC70>"
            ],
            "image/png": "[encoded data removed]"
          },
          "metadata": {}
        },
        {
          "output_type": "display_data",
          "data": {
            "text/plain": [
              "<PIL.Image.Image image mode=RGB size=32x32 at 0x7F808E1AE800>"
            ],
            "image/png": "[encoded data removed]"
          },
          "metadata": {}
        },
        {
          "output_type": "display_data",
          "data": {
            "text/plain": [
              "<PIL.Image.Image image mode=RGB size=32x32 at 0x7F808E1AC0D0>"
            ],
            "image/png": "[encoded data removed]"
          },
          "metadata": {}
        },
        {
          "output_type": "display_data",
          "data": {
            "text/plain": [
              "<PIL.Image.Image image mode=RGB size=32x32 at 0x7F808E1ACC70>"
            ],
            "image/png": "[encoded data removed]"
          },
          "metadata": {}
        },
        {
          "output_type": "display_data",
          "data": {
            "text/plain": [
              "<PIL.Image.Image image mode=RGB size=32x32 at 0x7F808E1ADA50>"
            ],
            "image/png": "[encoded data removed]"
          },
          "metadata": {}
        },
        {
          "output_type": "display_data",
          "data": {
            "text/plain": [
              "<PIL.Image.Image image mode=RGB size=32x32 at 0x7F808E1AE800>"
            ],
            "image/png": "[encoded data removed]"
          },
          "metadata": {}
        },
        {
          "output_type": "display_data",
          "data": {
            "text/plain": [
              "<PIL.Image.Image image mode=RGB size=32x32 at 0x7F808E1ACC70>"
            ],
            "image/png": "[encoded data removed]"
          },
          "metadata": {}
        },
        {
          "output_type": "display_data",
          "data": {
            "text/plain": [
              "<PIL.Image.Image image mode=RGB size=32x32 at 0x7F808E1ADA50>"
            ],
            "image/png": "[encoded data removed]"
          },
          "metadata": {}
        },
        {
          "output_type": "display_data",
          "data": {
            "text/plain": [
              "<PIL.Image.Image image mode=RGB size=32x32 at 0x7F808E1AE800>"
            ],
            "image/png": "[encoded data removed]"
          },
          "metadata": {}
        },
        {
          "output_type": "display_data",
          "data": {
            "text/plain": [
              "<PIL.Image.Image image mode=RGB size=32x32 at 0x7F808E1ACC70>"
            ],
            "image/png": "[encoded data removed]"
          },
          "metadata": {}
        },
        {
          "output_type": "display_data",
          "data": {
            "text/plain": [
              "<PIL.Image.Image image mode=RGB size=32x32 at 0x7F808E1ADA50>"
            ],
            "image/png": "[encoded data removed]"
          },
          "metadata": {}
        },
        {
          "output_type": "display_data",
          "data": {
            "text/plain": [
              "<PIL.Image.Image image mode=RGB size=32x32 at 0x7F808E1AE800>"
            ],
            "image/png": "[encoded data removed]"
          },
          "metadata": {}
        },
        {
          "output_type": "display_data",
          "data": {
            "text/plain": [
              "<PIL.Image.Image image mode=RGB size=32x32 at 0x7F808E1ACC70>"
            ],
            "image/png": "[encoded data removed]"
          },
          "metadata": {}
        },
        {
          "output_type": "display_data",
          "data": {
            "text/plain": [
              "<PIL.Image.Image image mode=RGB size=32x32 at 0x7F808E1ADA50>"
            ],
            "image/png": "[encoded data removed]"
          },
          "metadata": {}
        },
        {
          "output_type": "display_data",
          "data": {
            "text/plain": [
              "<PIL.Image.Image image mode=RGB size=32x32 at 0x7F808E1AE800>"
            ],
            "image/png": "[encoded data removed]"
          },
          "metadata": {}
        },
        {
          "output_type": "display_data",
          "data": {
            "text/plain": [
              "<PIL.Image.Image image mode=RGB size=32x32 at 0x7F808E1ACC70>"
            ],
            "image/png": "[encoded data removed]"
          },
          "metadata": {}
        },
        {
          "output_type": "display_data",
          "data": {
            "text/plain": [
              "<PIL.Image.Image image mode=RGB size=32x32 at 0x7F808E1ADA50>"
            ],
            "image/png": "[encoded data removed]"
          },
          "metadata": {}
        },
        {
          "output_type": "display_data",
          "data": {
            "text/plain": [
              "<PIL.Image.Image image mode=RGB size=32x32 at 0x7F808E1AE800>"
            ],
            "image/png": "[encoded data removed]"
          },
          "metadata": {}
        },
        {
          "output_type": "display_data",
          "data": {
            "text/plain": [
              "<PIL.Image.Image image mode=RGB size=32x32 at 0x7F808E1ACC70>"
            ],
            "image/png": "[encoded data removed]"
          },
          "metadata": {}
        },
        {
          "output_type": "display_data",
          "data": {
            "text/plain": [
              "<PIL.Image.Image image mode=RGB size=32x32 at 0x7F808E1ADA50>"
            ],
            "image/png": "[encoded data removed]"
          },
          "metadata": {}
        },
        {
          "output_type": "display_data",
          "data": {
            "text/plain": [
              "<PIL.Image.Image image mode=RGB size=32x32 at 0x7F808E1AE800>"
            ],
            "image/png": "[encoded data removed]"
          },
          "metadata": {}
        },
        {
          "output_type": "display_data",
          "data": {
            "text/plain": [
              "<PIL.Image.Image image mode=RGB size=32x32 at 0x7F808E1ACC70>"
            ],
            "image/png": "[encoded data removed]"
          },
          "metadata": {}
        },
        {
          "output_type": "display_data",
          "data": {
            "text/plain": [
              "<PIL.Image.Image image mode=RGB size=32x32 at 0x7F808E1ADA50>"
            ],
            "image/png": "[encoded data removed]"
          },
          "metadata": {}
        },
        {
          "output_type": "display_data",
          "data": {
            "text/plain": [
              "<PIL.Image.Image image mode=RGB size=32x32 at 0x7F808E1AE800>"
            ],
            "image/png": "[encoded data removed]"
          },
          "metadata": {}
        },
        {
          "output_type": "display_data",
          "data": {
            "text/plain": [
              "<PIL.Image.Image image mode=RGB size=32x32 at 0x7F808E1ACC70>"
            ],
            "image/png": "[encoded data removed]"
          },
          "metadata": {}
        },
        {
          "output_type": "display_data",
          "data": {
            "text/plain": [
              "<PIL.Image.Image image mode=RGB size=32x32 at 0x7F808E1ADA50>"
            ],
            "image/png": "[encoded data removed]"
          },
          "metadata": {}
        },
        {
          "output_type": "display_data",
          "data": {
            "text/plain": [
              "<PIL.Image.Image image mode=RGB size=32x32 at 0x7F808E1AE800>"
            ],
            "image/png": "[encoded data removed]"
          },
          "metadata": {}
        },
        {
          "output_type": "display_data",
          "data": {
            "text/plain": [
              "<PIL.Image.Image image mode=RGB size=32x32 at 0x7F808E1ACC70>"
            ],
            "image/png": "[encoded data removed]"
          },
          "metadata": {}
        },
        {
          "output_type": "display_data",
          "data": {
            "text/plain": [
              "<PIL.Image.Image image mode=RGB size=32x32 at 0x7F808E1ADA50>"
            ],
            "image/png": "[encoded data removed]"
          },
          "metadata": {}
        },
        {
          "output_type": "display_data",
          "data": {
            "text/plain": [
              "<PIL.Image.Image image mode=RGB size=32x32 at 0x7F808E1AE800>"
            ],
            "image/png": "[encoded data removed]"
          },
          "metadata": {}
        },
        {
          "output_type": "display_data",
          "data": {
            "text/plain": [
              "<PIL.Image.Image image mode=RGB size=32x32 at 0x7F808E1ACC70>"
            ],
            "image/png": "[encoded data removed]"
          },
          "metadata": {}
        },
        {
          "output_type": "display_data",
          "data": {
            "text/plain": [
              "<PIL.Image.Image image mode=RGB size=32x32 at 0x7F808E1ADA50>"
            ],
            "image/png": "[encoded data removed]"
          },
          "metadata": {}
        },
        {
          "output_type": "display_data",
          "data": {
            "text/plain": [
              "<PIL.Image.Image image mode=RGB size=32x32 at 0x7F808E1AE800>"
            ],
            "image/png": "[encoded data removed]"
          },
          "metadata": {}
        },
        {
          "output_type": "display_data",
          "data": {
            "text/plain": [
              "<PIL.Image.Image image mode=RGB size=32x32 at 0x7F808E1ACC70>"
            ],
            "image/png": "[encoded data removed]"
          },
          "metadata": {}
        },
        {
          "output_type": "display_data",
          "data": {
            "text/plain": [
              "<PIL.Image.Image image mode=RGB size=32x32 at 0x7F808E1ADA50>"
            ],
            "image/png": "[encoded data removed]"
          },
          "metadata": {}
        },
        {
          "output_type": "display_data",
          "data": {
            "text/plain": [
              "<PIL.Image.Image image mode=RGB size=32x32 at 0x7F808E1AE800>"
            ],
            "image/png": "[encoded data removed]"
          },
          "metadata": {}
        },
        {
          "output_type": "display_data",
          "data": {
            "text/plain": [
              "<PIL.Image.Image image mode=RGB size=32x32 at 0x7F808E1ACC70>"
            ],
            "image/png": "[encoded data removed]"
          },
          "metadata": {}
        },
        {
          "output_type": "display_data",
          "data": {
            "text/plain": [
              "<PIL.Image.Image image mode=RGB size=32x32 at 0x7F808E1ADA50>"
            ],
            "image/png": "[encoded data removed]"
          },
          "metadata": {}
        },
        {
          "output_type": "display_data",
          "data": {
            "text/plain": [
              "<PIL.Image.Image image mode=RGB size=32x32 at 0x7F808E1AE800>"
            ],
            "image/png": "[encoded data removed]"
          },
          "metadata": {}
        },
        {
          "output_type": "display_data",
          "data": {
            "text/plain": [
              "<PIL.Image.Image image mode=RGB size=32x32 at 0x7F808E1ACC70>"
            ],
            "image/png": "[encoded data removed]"
          },
          "metadata": {}
        },
        {
          "output_type": "display_data",
          "data": {
            "text/plain": [
              "<PIL.Image.Image image mode=RGB size=32x32 at 0x7F808E1ADA50>"
            ],
            "image/png": "[encoded data removed]"
          },
          "metadata": {}
        },
        {
          "output_type": "display_data",
          "data": {
            "text/plain": [
              "<PIL.Image.Image image mode=RGB size=32x32 at 0x7F808E1AE800>"
            ],
            "image/png": "[encoded data removed]"
          },
          "metadata": {}
        },
        {
          "output_type": "display_data",
          "data": {
            "text/plain": [
              "<PIL.Image.Image image mode=RGB size=32x32 at 0x7F808E1ACC70>"
            ],
            "image/png": "[encoded data removed]"
          },
          "metadata": {}
        },
        {
          "output_type": "display_data",
          "data": {
            "text/plain": [
              "<PIL.Image.Image image mode=RGB size=32x32 at 0x7F808E1ADA50>"
            ],
            "image/png": "[encoded data removed]"
          },
          "metadata": {}
        },
        {
          "output_type": "display_data",
          "data": {
            "text/plain": [
              "<PIL.Image.Image image mode=RGB size=32x32 at 0x7F808E1AE800>"
            ],
            "image/png": "[encoded data removed]"
          },
          "metadata": {}
        },
        {
          "output_type": "display_data",
          "data": {
            "text/plain": [
              "<PIL.Image.Image image mode=RGB size=32x32 at 0x7F808E1ACC70>"
            ],
            "image/png": "[encoded data removed]"
          },
          "metadata": {}
        },
        {
          "output_type": "display_data",
          "data": {
            "text/plain": [
              "<PIL.Image.Image image mode=RGB size=32x32 at 0x7F808E1ADA50>"
            ],
            "image/png": "[encoded data removed]"
          },
          "metadata": {}
        },
        {
          "output_type": "display_data",
          "data": {
            "text/plain": [
              "<PIL.Image.Image image mode=RGB size=32x32 at 0x7F808E1AE800>"
            ],
            "image/png": "[encoded data removed]"
          },
          "metadata": {}
        }
      ]
    }
  ]
}